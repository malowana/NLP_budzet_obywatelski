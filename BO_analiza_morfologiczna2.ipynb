{
  "nbformat": 4,
  "nbformat_minor": 0,
  "metadata": {
    "colab": {
      "name": "BO_analiza_morfologiczna2.ipynb",
      "provenance": [],
      "authorship_tag": "ABX9TyOic+riG0WxR34PmZVo+8NP",
      "include_colab_link": true
    },
    "kernelspec": {
      "name": "python3",
      "display_name": "Python 3"
    },
    "language_info": {
      "name": "python"
    }
  },
  "cells": [
    {
      "cell_type": "markdown",
      "metadata": {
        "id": "view-in-github",
        "colab_type": "text"
      },
      "source": [
        "<a href=\"https://colab.research.google.com/github/malowana/NLP_budzet_obywatelski/blob/main/BO_analiza_morfologiczna2.ipynb\" target=\"_parent\"><img src=\"https://colab.research.google.com/assets/colab-badge.svg\" alt=\"Open In Colab\"/></a>"
      ]
    },
    {
      "cell_type": "code",
      "source": [
        "!pip install -U spacy"
      ],
      "metadata": {
        "colab": {
          "base_uri": "https://localhost:8080/"
        },
        "id": "2glZausYtAWq",
        "outputId": "3ff4a73b-e4d8-421b-c08c-814ba95a33a3"
      },
      "execution_count": 13,
      "outputs": [
        {
          "output_type": "stream",
          "name": "stdout",
          "text": [
            "Requirement already satisfied: spacy in /usr/local/lib/python3.7/dist-packages (3.2.1)\n",
            "Requirement already satisfied: murmurhash<1.1.0,>=0.28.0 in /usr/local/lib/python3.7/dist-packages (from spacy) (1.0.6)\n",
            "Requirement already satisfied: pydantic!=1.8,!=1.8.1,<1.9.0,>=1.7.4 in /usr/local/lib/python3.7/dist-packages (from spacy) (1.8.2)\n",
            "Requirement already satisfied: cymem<2.1.0,>=2.0.2 in /usr/local/lib/python3.7/dist-packages (from spacy) (2.0.6)\n",
            "Requirement already satisfied: thinc<8.1.0,>=8.0.12 in /usr/local/lib/python3.7/dist-packages (from spacy) (8.0.13)\n",
            "Requirement already satisfied: typing-extensions<4.0.0.0,>=3.7.4 in /usr/local/lib/python3.7/dist-packages (from spacy) (3.10.0.2)\n",
            "Requirement already satisfied: setuptools in /usr/local/lib/python3.7/dist-packages (from spacy) (57.4.0)\n",
            "Requirement already satisfied: packaging>=20.0 in /usr/local/lib/python3.7/dist-packages (from spacy) (21.3)\n",
            "Requirement already satisfied: numpy>=1.15.0 in /usr/local/lib/python3.7/dist-packages (from spacy) (1.19.5)\n",
            "Requirement already satisfied: requests<3.0.0,>=2.13.0 in /usr/local/lib/python3.7/dist-packages (from spacy) (2.23.0)\n",
            "Requirement already satisfied: langcodes<4.0.0,>=3.2.0 in /usr/local/lib/python3.7/dist-packages (from spacy) (3.3.0)\n",
            "Requirement already satisfied: tqdm<5.0.0,>=4.38.0 in /usr/local/lib/python3.7/dist-packages (from spacy) (4.62.3)\n",
            "Requirement already satisfied: pathy>=0.3.5 in /usr/local/lib/python3.7/dist-packages (from spacy) (0.6.1)\n",
            "Requirement already satisfied: preshed<3.1.0,>=3.0.2 in /usr/local/lib/python3.7/dist-packages (from spacy) (3.0.6)\n",
            "Requirement already satisfied: spacy-loggers<2.0.0,>=1.0.0 in /usr/local/lib/python3.7/dist-packages (from spacy) (1.0.1)\n",
            "Requirement already satisfied: catalogue<2.1.0,>=2.0.6 in /usr/local/lib/python3.7/dist-packages (from spacy) (2.0.6)\n",
            "Requirement already satisfied: typer<0.5.0,>=0.3.0 in /usr/local/lib/python3.7/dist-packages (from spacy) (0.4.0)\n",
            "Requirement already satisfied: jinja2 in /usr/local/lib/python3.7/dist-packages (from spacy) (2.11.3)\n",
            "Requirement already satisfied: srsly<3.0.0,>=2.4.1 in /usr/local/lib/python3.7/dist-packages (from spacy) (2.4.2)\n",
            "Requirement already satisfied: spacy-legacy<3.1.0,>=3.0.8 in /usr/local/lib/python3.7/dist-packages (from spacy) (3.0.8)\n",
            "Requirement already satisfied: wasabi<1.1.0,>=0.8.1 in /usr/local/lib/python3.7/dist-packages (from spacy) (0.9.0)\n",
            "Requirement already satisfied: blis<0.8.0,>=0.4.0 in /usr/local/lib/python3.7/dist-packages (from spacy) (0.4.1)\n",
            "Requirement already satisfied: zipp>=0.5 in /usr/local/lib/python3.7/dist-packages (from catalogue<2.1.0,>=2.0.6->spacy) (3.7.0)\n",
            "Requirement already satisfied: pyparsing!=3.0.5,>=2.0.2 in /usr/local/lib/python3.7/dist-packages (from packaging>=20.0->spacy) (3.0.6)\n",
            "Requirement already satisfied: smart-open<6.0.0,>=5.0.0 in /usr/local/lib/python3.7/dist-packages (from pathy>=0.3.5->spacy) (5.2.1)\n",
            "Requirement already satisfied: chardet<4,>=3.0.2 in /usr/local/lib/python3.7/dist-packages (from requests<3.0.0,>=2.13.0->spacy) (3.0.4)\n",
            "Requirement already satisfied: idna<3,>=2.5 in /usr/local/lib/python3.7/dist-packages (from requests<3.0.0,>=2.13.0->spacy) (2.10)\n",
            "Requirement already satisfied: urllib3!=1.25.0,!=1.25.1,<1.26,>=1.21.1 in /usr/local/lib/python3.7/dist-packages (from requests<3.0.0,>=2.13.0->spacy) (1.24.3)\n",
            "Requirement already satisfied: certifi>=2017.4.17 in /usr/local/lib/python3.7/dist-packages (from requests<3.0.0,>=2.13.0->spacy) (2021.10.8)\n",
            "Requirement already satisfied: click<9.0.0,>=7.1.1 in /usr/local/lib/python3.7/dist-packages (from typer<0.5.0,>=0.3.0->spacy) (7.1.2)\n",
            "Requirement already satisfied: MarkupSafe>=0.23 in /usr/local/lib/python3.7/dist-packages (from jinja2->spacy) (2.0.1)\n"
          ]
        }
      ]
    },
    {
      "cell_type": "code",
      "source": [
        "!pip install morfeusz2"
      ],
      "metadata": {
        "colab": {
          "base_uri": "https://localhost:8080/"
        },
        "id": "ZIHdiixOrxl4",
        "outputId": "c7791aba-afe6-4d13-d397-a9f8b79c8071"
      },
      "execution_count": 9,
      "outputs": [
        {
          "output_type": "stream",
          "name": "stdout",
          "text": [
            "Requirement already satisfied: morfeusz2 in /usr/local/lib/python3.7/dist-packages (1.99.3)\n"
          ]
        }
      ]
    },
    {
      "cell_type": "code",
      "source": [
        "# instalacja morfeusza\n",
        "!wget -O - http://download.sgjp.pl/apt/sgjp.gpg.key|sudo apt-key add -\n",
        "!sudo apt-add-repository http://download.sgjp.pl/apt/ubuntu\n",
        "!sudo apt update\n",
        "!sudo apt install morfeusz2\n",
        "!sudo apt install python3-morfeusz2\n",
        "\n",
        "\n",
        "# instalacja modelu IPI PAN dla języka polskiego\n",
        "!wget \"http://zil.ipipan.waw.pl/SpacyPL?action=AttachFile&do=get&target=pl_spacy_model_morfeusz-0.1.3.tar.gz\"\n",
        "!mv 'SpacyPL?action=AttachFile&do=get&target=pl_spacy_model_morfeusz-0.1.3.tar.gz' pl_spacy_model_morfeusz-0.1.3.tar.gz\n",
        "!python3 -m pip install pl_spacy_model_morfeusz-0.1.3.tar.gz\n",
        "\n",
        "# linkowanie modelu do spaCy\n",
        "!python3 -m spacy link pl_spacy_model_morfeusz pl_spacy_model_morfeusz -f"
      ],
      "metadata": {
        "colab": {
          "base_uri": "https://localhost:8080/"
        },
        "id": "H4acTVSF2Vxe",
        "outputId": "61ccec7d-77d5-40ce-c0d0-940b1f690927"
      },
      "execution_count": 21,
      "outputs": [
        {
          "output_type": "stream",
          "name": "stdout",
          "text": [
            "--2022-01-16 21:44:37--  http://download.sgjp.pl/apt/sgjp.gpg.key\n",
            "Resolving download.sgjp.pl (download.sgjp.pl)... 193.0.67.154\n",
            "Connecting to download.sgjp.pl (download.sgjp.pl)|193.0.67.154|:80... connected.\n",
            "HTTP request sent, awaiting response... 200 OK\n",
            "Length: 1029 (1.0K) [application/pgp-keys]\n",
            "Saving to: ‘STDOUT’\n",
            "\n",
            "-                   100%[===================>]   1.00K  --.-KB/s    in 0s      \n",
            "\n",
            "2022-01-16 21:44:38 (234 MB/s) - written to stdout [1029/1029]\n",
            "\n",
            "OK\n",
            "Ign:1 https://developer.download.nvidia.com/compute/cuda/repos/ubuntu1804/x86_64  InRelease\n",
            "Ign:2 https://developer.download.nvidia.com/compute/machine-learning/repos/ubuntu1804/x86_64  InRelease\n",
            "Hit:3 https://developer.download.nvidia.com/compute/cuda/repos/ubuntu1804/x86_64  Release\n",
            "Hit:4 https://developer.download.nvidia.com/compute/machine-learning/repos/ubuntu1804/x86_64  Release\n",
            "Hit:5 https://cloud.r-project.org/bin/linux/ubuntu bionic-cran40/ InRelease\n",
            "Hit:8 http://ppa.launchpad.net/c2d4u.team/c2d4u4.0+/ubuntu bionic InRelease\n",
            "Get:9 http://security.ubuntu.com/ubuntu bionic-security InRelease [88.7 kB]\n",
            "Hit:10 http://download.sgjp.pl/apt/ubuntu bionic InRelease\n",
            "Hit:11 http://archive.ubuntu.com/ubuntu bionic InRelease\n",
            "Hit:12 http://ppa.launchpad.net/cran/libgit2/ubuntu bionic InRelease\n",
            "Get:13 http://archive.ubuntu.com/ubuntu bionic-updates InRelease [88.7 kB]\n",
            "Hit:14 http://ppa.launchpad.net/deadsnakes/ppa/ubuntu bionic InRelease\n",
            "Get:15 http://archive.ubuntu.com/ubuntu bionic-backports InRelease [74.6 kB]\n",
            "Hit:16 http://ppa.launchpad.net/graphics-drivers/ppa/ubuntu bionic InRelease\n",
            "Fetched 252 kB in 1s (203 kB/s)\n",
            "Reading package lists... Done\n",
            "Hit:1 https://cloud.r-project.org/bin/linux/ubuntu bionic-cran40/ InRelease\n",
            "Ign:2 https://developer.download.nvidia.com/compute/cuda/repos/ubuntu1804/x86_64  InRelease\n",
            "Ign:3 https://developer.download.nvidia.com/compute/machine-learning/repos/ubuntu1804/x86_64  InRelease\n",
            "Hit:4 https://developer.download.nvidia.com/compute/cuda/repos/ubuntu1804/x86_64  Release\n",
            "Hit:5 https://developer.download.nvidia.com/compute/machine-learning/repos/ubuntu1804/x86_64  Release\n",
            "Hit:6 http://security.ubuntu.com/ubuntu bionic-security InRelease\n",
            "Hit:8 http://archive.ubuntu.com/ubuntu bionic InRelease\n",
            "Hit:10 http://download.sgjp.pl/apt/ubuntu bionic InRelease\n",
            "Hit:11 http://archive.ubuntu.com/ubuntu bionic-updates InRelease\n",
            "Hit:12 http://archive.ubuntu.com/ubuntu bionic-backports InRelease\n",
            "Hit:13 http://ppa.launchpad.net/c2d4u.team/c2d4u4.0+/ubuntu bionic InRelease\n",
            "Hit:14 http://ppa.launchpad.net/cran/libgit2/ubuntu bionic InRelease\n",
            "Hit:15 http://ppa.launchpad.net/deadsnakes/ppa/ubuntu bionic InRelease\n",
            "Hit:16 http://ppa.launchpad.net/graphics-drivers/ppa/ubuntu bionic InRelease\n",
            "Reading package lists... Done\n",
            "Building dependency tree       \n",
            "Reading state information... Done\n",
            "50 packages can be upgraded. Run 'apt list --upgradable' to see them.\n",
            "Reading package lists... Done\n",
            "Building dependency tree       \n",
            "Reading state information... Done\n",
            "morfeusz2 is already the newest version (1.99.3-18.04).\n",
            "0 upgraded, 0 newly installed, 0 to remove and 50 not upgraded.\n",
            "Reading package lists... Done\n",
            "Building dependency tree       \n",
            "Reading state information... Done\n",
            "python3-morfeusz2 is already the newest version (1.99.3-18.04).\n",
            "0 upgraded, 0 newly installed, 0 to remove and 50 not upgraded.\n",
            "--2022-01-16 21:44:48--  http://zil.ipipan.waw.pl/SpacyPL?action=AttachFile&do=get&target=pl_spacy_model_morfeusz-0.1.3.tar.gz\n",
            "Resolving zil.ipipan.waw.pl (zil.ipipan.waw.pl)... 213.135.36.94\n",
            "Connecting to zil.ipipan.waw.pl (zil.ipipan.waw.pl)|213.135.36.94|:80... connected.\n",
            "HTTP request sent, awaiting response... 200 OK\n",
            "Length: 229068993 (218M) [application/x-tar]\n",
            "Saving to: ‘SpacyPL?action=AttachFile&do=get&target=pl_spacy_model_morfeusz-0.1.3.tar.gz’\n",
            "\n",
            "SpacyPL?action=Atta 100%[===================>] 218.46M  18.3MB/s    in 14s     \n",
            "\n",
            "2022-01-16 21:45:03 (15.6 MB/s) - ‘SpacyPL?action=AttachFile&do=get&target=pl_spacy_model_morfeusz-0.1.3.tar.gz’ saved [229068993/229068993]\n",
            "\n",
            "Processing ./pl_spacy_model_morfeusz-0.1.3.tar.gz\n",
            "Requirement already satisfied: spacy==2.3.2 in /usr/local/lib/python3.7/dist-packages (from pl-spacy-model-morfeusz==0.1.3) (2.3.2)\n",
            "Requirement already satisfied: distance in /usr/local/lib/python3.7/dist-packages (from pl-spacy-model-morfeusz==0.1.3) (0.1.3)\n",
            "Requirement already satisfied: keras==2.4.3 in /usr/local/lib/python3.7/dist-packages (from pl-spacy-model-morfeusz==0.1.3) (2.4.3)\n",
            "Requirement already satisfied: numpy in /usr/local/lib/python3.7/dist-packages (from pl-spacy-model-morfeusz==0.1.3) (1.18.5)\n",
            "Requirement already satisfied: tensorflow==2.3.1 in /usr/local/lib/python3.7/dist-packages (from pl-spacy-model-morfeusz==0.1.3) (2.3.1)\n",
            "Requirement already satisfied: scipy>=0.14 in /usr/local/lib/python3.7/dist-packages (from keras==2.4.3->pl-spacy-model-morfeusz==0.1.3) (1.4.1)\n",
            "Requirement already satisfied: h5py in /usr/local/lib/python3.7/dist-packages (from keras==2.4.3->pl-spacy-model-morfeusz==0.1.3) (2.10.0)\n",
            "Requirement already satisfied: pyyaml in /usr/local/lib/python3.7/dist-packages (from keras==2.4.3->pl-spacy-model-morfeusz==0.1.3) (3.13)\n",
            "Requirement already satisfied: wasabi<1.1.0,>=0.4.0 in /usr/local/lib/python3.7/dist-packages (from spacy==2.3.2->pl-spacy-model-morfeusz==0.1.3) (0.9.0)\n",
            "Requirement already satisfied: murmurhash<1.1.0,>=0.28.0 in /usr/local/lib/python3.7/dist-packages (from spacy==2.3.2->pl-spacy-model-morfeusz==0.1.3) (1.0.6)\n",
            "Requirement already satisfied: cymem<2.1.0,>=2.0.2 in /usr/local/lib/python3.7/dist-packages (from spacy==2.3.2->pl-spacy-model-morfeusz==0.1.3) (2.0.6)\n",
            "Requirement already satisfied: requests<3.0.0,>=2.13.0 in /usr/local/lib/python3.7/dist-packages (from spacy==2.3.2->pl-spacy-model-morfeusz==0.1.3) (2.23.0)\n",
            "Requirement already satisfied: srsly<1.1.0,>=1.0.2 in /usr/local/lib/python3.7/dist-packages (from spacy==2.3.2->pl-spacy-model-morfeusz==0.1.3) (1.0.5)\n",
            "Requirement already satisfied: plac<1.2.0,>=0.9.6 in /usr/local/lib/python3.7/dist-packages (from spacy==2.3.2->pl-spacy-model-morfeusz==0.1.3) (1.1.3)\n",
            "Requirement already satisfied: setuptools in /usr/local/lib/python3.7/dist-packages (from spacy==2.3.2->pl-spacy-model-morfeusz==0.1.3) (57.4.0)\n",
            "Requirement already satisfied: catalogue<1.1.0,>=0.0.7 in /usr/local/lib/python3.7/dist-packages (from spacy==2.3.2->pl-spacy-model-morfeusz==0.1.3) (1.0.0)\n",
            "Requirement already satisfied: thinc==7.4.1 in /usr/local/lib/python3.7/dist-packages (from spacy==2.3.2->pl-spacy-model-morfeusz==0.1.3) (7.4.1)\n",
            "Requirement already satisfied: preshed<3.1.0,>=3.0.2 in /usr/local/lib/python3.7/dist-packages (from spacy==2.3.2->pl-spacy-model-morfeusz==0.1.3) (3.0.6)\n",
            "Requirement already satisfied: blis<0.5.0,>=0.4.0 in /usr/local/lib/python3.7/dist-packages (from spacy==2.3.2->pl-spacy-model-morfeusz==0.1.3) (0.4.1)\n",
            "Requirement already satisfied: tqdm<5.0.0,>=4.38.0 in /usr/local/lib/python3.7/dist-packages (from spacy==2.3.2->pl-spacy-model-morfeusz==0.1.3) (4.62.3)\n",
            "Requirement already satisfied: tensorboard<3,>=2.3.0 in /usr/local/lib/python3.7/dist-packages (from tensorflow==2.3.1->pl-spacy-model-morfeusz==0.1.3) (2.7.0)\n",
            "Requirement already satisfied: absl-py>=0.7.0 in /usr/local/lib/python3.7/dist-packages (from tensorflow==2.3.1->pl-spacy-model-morfeusz==0.1.3) (0.12.0)\n",
            "Requirement already satisfied: gast==0.3.3 in /usr/local/lib/python3.7/dist-packages (from tensorflow==2.3.1->pl-spacy-model-morfeusz==0.1.3) (0.3.3)\n",
            "Requirement already satisfied: tensorflow-estimator<2.4.0,>=2.3.0 in /usr/local/lib/python3.7/dist-packages (from tensorflow==2.3.1->pl-spacy-model-morfeusz==0.1.3) (2.3.0)\n",
            "Requirement already satisfied: wrapt>=1.11.1 in /usr/local/lib/python3.7/dist-packages (from tensorflow==2.3.1->pl-spacy-model-morfeusz==0.1.3) (1.13.3)\n",
            "Requirement already satisfied: grpcio>=1.8.6 in /usr/local/lib/python3.7/dist-packages (from tensorflow==2.3.1->pl-spacy-model-morfeusz==0.1.3) (1.43.0)\n",
            "Requirement already satisfied: opt-einsum>=2.3.2 in /usr/local/lib/python3.7/dist-packages (from tensorflow==2.3.1->pl-spacy-model-morfeusz==0.1.3) (3.3.0)\n",
            "Requirement already satisfied: six>=1.12.0 in /usr/local/lib/python3.7/dist-packages (from tensorflow==2.3.1->pl-spacy-model-morfeusz==0.1.3) (1.15.0)\n",
            "Requirement already satisfied: keras-preprocessing<1.2,>=1.1.1 in /usr/local/lib/python3.7/dist-packages (from tensorflow==2.3.1->pl-spacy-model-morfeusz==0.1.3) (1.1.2)\n",
            "Requirement already satisfied: wheel>=0.26 in /usr/local/lib/python3.7/dist-packages (from tensorflow==2.3.1->pl-spacy-model-morfeusz==0.1.3) (0.37.1)\n",
            "Requirement already satisfied: google-pasta>=0.1.8 in /usr/local/lib/python3.7/dist-packages (from tensorflow==2.3.1->pl-spacy-model-morfeusz==0.1.3) (0.2.0)\n",
            "Requirement already satisfied: protobuf>=3.9.2 in /usr/local/lib/python3.7/dist-packages (from tensorflow==2.3.1->pl-spacy-model-morfeusz==0.1.3) (3.17.3)\n",
            "Requirement already satisfied: astunparse==1.6.3 in /usr/local/lib/python3.7/dist-packages (from tensorflow==2.3.1->pl-spacy-model-morfeusz==0.1.3) (1.6.3)\n",
            "Requirement already satisfied: termcolor>=1.1.0 in /usr/local/lib/python3.7/dist-packages (from tensorflow==2.3.1->pl-spacy-model-morfeusz==0.1.3) (1.1.0)\n",
            "Requirement already satisfied: importlib-metadata>=0.20 in /usr/local/lib/python3.7/dist-packages (from catalogue<1.1.0,>=0.0.7->spacy==2.3.2->pl-spacy-model-morfeusz==0.1.3) (4.10.0)\n",
            "Requirement already satisfied: zipp>=0.5 in /usr/local/lib/python3.7/dist-packages (from importlib-metadata>=0.20->catalogue<1.1.0,>=0.0.7->spacy==2.3.2->pl-spacy-model-morfeusz==0.1.3) (3.7.0)\n",
            "Requirement already satisfied: typing-extensions>=3.6.4 in /usr/local/lib/python3.7/dist-packages (from importlib-metadata>=0.20->catalogue<1.1.0,>=0.0.7->spacy==2.3.2->pl-spacy-model-morfeusz==0.1.3) (3.10.0.2)\n",
            "Requirement already satisfied: urllib3!=1.25.0,!=1.25.1,<1.26,>=1.21.1 in /usr/local/lib/python3.7/dist-packages (from requests<3.0.0,>=2.13.0->spacy==2.3.2->pl-spacy-model-morfeusz==0.1.3) (1.24.3)\n",
            "Requirement already satisfied: chardet<4,>=3.0.2 in /usr/local/lib/python3.7/dist-packages (from requests<3.0.0,>=2.13.0->spacy==2.3.2->pl-spacy-model-morfeusz==0.1.3) (3.0.4)\n",
            "Requirement already satisfied: idna<3,>=2.5 in /usr/local/lib/python3.7/dist-packages (from requests<3.0.0,>=2.13.0->spacy==2.3.2->pl-spacy-model-morfeusz==0.1.3) (2.10)\n",
            "Requirement already satisfied: certifi>=2017.4.17 in /usr/local/lib/python3.7/dist-packages (from requests<3.0.0,>=2.13.0->spacy==2.3.2->pl-spacy-model-morfeusz==0.1.3) (2021.10.8)\n",
            "Requirement already satisfied: werkzeug>=0.11.15 in /usr/local/lib/python3.7/dist-packages (from tensorboard<3,>=2.3.0->tensorflow==2.3.1->pl-spacy-model-morfeusz==0.1.3) (1.0.1)\n",
            "Requirement already satisfied: markdown>=2.6.8 in /usr/local/lib/python3.7/dist-packages (from tensorboard<3,>=2.3.0->tensorflow==2.3.1->pl-spacy-model-morfeusz==0.1.3) (3.3.6)\n",
            "Requirement already satisfied: google-auth<3,>=1.6.3 in /usr/local/lib/python3.7/dist-packages (from tensorboard<3,>=2.3.0->tensorflow==2.3.1->pl-spacy-model-morfeusz==0.1.3) (1.35.0)\n",
            "Requirement already satisfied: google-auth-oauthlib<0.5,>=0.4.1 in /usr/local/lib/python3.7/dist-packages (from tensorboard<3,>=2.3.0->tensorflow==2.3.1->pl-spacy-model-morfeusz==0.1.3) (0.4.6)\n",
            "Requirement already satisfied: tensorboard-plugin-wit>=1.6.0 in /usr/local/lib/python3.7/dist-packages (from tensorboard<3,>=2.3.0->tensorflow==2.3.1->pl-spacy-model-morfeusz==0.1.3) (1.8.1)\n",
            "Requirement already satisfied: tensorboard-data-server<0.7.0,>=0.6.0 in /usr/local/lib/python3.7/dist-packages (from tensorboard<3,>=2.3.0->tensorflow==2.3.1->pl-spacy-model-morfeusz==0.1.3) (0.6.1)\n",
            "Requirement already satisfied: rsa<5,>=3.1.4 in /usr/local/lib/python3.7/dist-packages (from google-auth<3,>=1.6.3->tensorboard<3,>=2.3.0->tensorflow==2.3.1->pl-spacy-model-morfeusz==0.1.3) (4.8)\n",
            "Requirement already satisfied: pyasn1-modules>=0.2.1 in /usr/local/lib/python3.7/dist-packages (from google-auth<3,>=1.6.3->tensorboard<3,>=2.3.0->tensorflow==2.3.1->pl-spacy-model-morfeusz==0.1.3) (0.2.8)\n",
            "Requirement already satisfied: cachetools<5.0,>=2.0.0 in /usr/local/lib/python3.7/dist-packages (from google-auth<3,>=1.6.3->tensorboard<3,>=2.3.0->tensorflow==2.3.1->pl-spacy-model-morfeusz==0.1.3) (4.2.4)\n",
            "Requirement already satisfied: requests-oauthlib>=0.7.0 in /usr/local/lib/python3.7/dist-packages (from google-auth-oauthlib<0.5,>=0.4.1->tensorboard<3,>=2.3.0->tensorflow==2.3.1->pl-spacy-model-morfeusz==0.1.3) (1.3.0)\n",
            "Requirement already satisfied: pyasn1<0.5.0,>=0.4.6 in /usr/local/lib/python3.7/dist-packages (from pyasn1-modules>=0.2.1->google-auth<3,>=1.6.3->tensorboard<3,>=2.3.0->tensorflow==2.3.1->pl-spacy-model-morfeusz==0.1.3) (0.4.8)\n",
            "Requirement already satisfied: oauthlib>=3.0.0 in /usr/local/lib/python3.7/dist-packages (from requests-oauthlib>=0.7.0->google-auth-oauthlib<0.5,>=0.4.1->tensorboard<3,>=2.3.0->tensorflow==2.3.1->pl-spacy-model-morfeusz==0.1.3) (3.1.1)\n",
            "\u001b[33mDEPRECATION: Source distribution is being reinstalled despite an installed package having the same name and version as the installed package. pip 21.2 will remove support for this functionality. A possible replacement is use --force-reinstall. You can find discussion regarding this at https://github.com/pypa/pip/issues/8711.\u001b[0m\n",
            "Building wheels for collected packages: pl-spacy-model-morfeusz\n",
            "  Building wheel for pl-spacy-model-morfeusz (setup.py) ... \u001b[?25l\u001b[?25hdone\n",
            "  Created wheel for pl-spacy-model-morfeusz: filename=pl_spacy_model_morfeusz-0.1.3-py3-none-any.whl size=229138628 sha256=1d5e8e23211ba3e28921259f0645cf5de477fe9a02cf749243bf183074ada6a6\n",
            "  Stored in directory: /root/.cache/pip/wheels/41/60/76/c244617da78bda313cffa31755650a889d48681ce562408447\n",
            "Successfully built pl-spacy-model-morfeusz\n",
            "Installing collected packages: pl-spacy-model-morfeusz\n",
            "  Attempting uninstall: pl-spacy-model-morfeusz\n",
            "    Found existing installation: pl-spacy-model-morfeusz 0.1.3\n",
            "    Uninstalling pl-spacy-model-morfeusz-0.1.3:\n",
            "      Successfully uninstalled pl-spacy-model-morfeusz-0.1.3\n",
            "Successfully installed pl-spacy-model-morfeusz-0.1.3\n",
            "\u001b[38;5;2m✔ Linking successful\u001b[0m\n",
            "/usr/local/lib/python3.7/dist-packages/pl_spacy_model_morfeusz -->\n",
            "/usr/local/lib/python3.7/dist-packages/spacy/data/pl_spacy_model_morfeusz\n",
            "You can now load the model via spacy.load('pl_spacy_model_morfeusz')\n"
          ]
        }
      ]
    },
    {
      "cell_type": "code",
      "source": [
        "#spacy.load('pl_spacy_model_morfeusz')"
      ],
      "metadata": {
        "id": "Gt8-3W8v3Tdk"
      },
      "execution_count": null,
      "outputs": []
    },
    {
      "cell_type": "code",
      "source": [
        "import numpy as np\n",
        "import pandas as pd\n",
        "import matplotlib.pyplot as plt\n",
        "import re\n",
        "from gensim.utils import simple_preprocess\n",
        "from collections import Counter\n",
        "import gc\n",
        "import morfeusz2\n",
        "import spacy\n",
        "from spacy.lang.pl.stop_words import STOP_WORDS"
      ],
      "metadata": {
        "id": "6xlF-SuHsVuM"
      },
      "execution_count": 22,
      "outputs": []
    },
    {
      "cell_type": "code",
      "execution_count": 24,
      "metadata": {
        "id": "zWGQhLtiroNt"
      },
      "outputs": [],
      "source": [
        "morf = morfeusz2.Morfeusz()"
      ]
    },
    {
      "cell_type": "code",
      "source": [
        "for analysis in morf.analyse(\"sadzimy rośliny zimozielone budowa dużego skateparkuu na gocławiu dla całej pragi-południe jako wizytówka prawej strony wisły domki dla jeży nad balatonem nie chcesz mieć szczurów\"):\n",
        "  # na wyjściu z morf.analyse dostajemy listę interpretacji, niektóre tokeny mogą mieć więcej niż jedną interpretację, jak tu z tokenem \"życia\"\n",
        "  start_ind, end_ind, interp = analysis\n",
        "  form, lemma, tag, qualifiers, _ = interp\n",
        "  try:\n",
        "    pos, feats = tag.split(\":\", 1)\n",
        "  except ValueError: # podana forma nie ma cech morfosyntaktycznych\n",
        "    pos, feats = tag, \"\"\n",
        "  print(\"{0:4} {1:4} {2:8} {3:8} {4:6} {5:20} {6:15}\".format(start_ind, end_ind, form, lemma, pos, feats, str(qualifiers)))"
      ],
      "metadata": {
        "colab": {
          "base_uri": "https://localhost:8080/"
        },
        "id": "uc65FV-s2CiG",
        "outputId": "b800440e-b7fc-435a-cf0d-b5856c21923f"
      },
      "execution_count": 26,
      "outputs": [
        {
          "output_type": "stream",
          "name": "stdout",
          "text": [
            "   0    1 sadzimy  sadzić   fin    pl:pri:imperf        []             \n",
            "   1    2 rośliny  roślina  subst  sg:gen:f             ['nazwa_pospolita']\n",
            "   1    2 rośliny  roślina  subst  pl:nom.acc.voc:f     ['nazwa_pospolita']\n",
            "   2    3 zimozielone zimozielony adj    pl:acc:m2.m3.f.n:pos []             \n",
            "   2    3 zimozielone zimozielony adj    pl:nom.voc:m2.m3.f.n:pos []             \n",
            "   2    3 zimozielone zimozielony adj    sg:acc:n:pos         []             \n",
            "   2    3 zimozielone zimozielony adj    sg:nom.voc:n:pos     []             \n",
            "   3    4 budowa   budowa   subst  sg:nom:f             ['nazwa_pospolita']\n",
            "   4    5 dużego   duży     adj    sg:acc:m1.m2:pos     []             \n",
            "   4    5 dużego   duży     adj    sg:gen:m1.m2.m3.n:pos []             \n",
            "   5    6 skateparkuu skateparkuu ign                         []             \n",
            "   6    7 na       na:I     interj                      []             \n",
            "   6    7 na       na:P     prep   acc                  []             \n",
            "   6    7 na       na:P     prep   loc                  []             \n",
            "   7    8 gocławiu Gocław   subst  sg:loc:m3            ['nazwa_geograficzna']\n",
            "   7    8 gocławiu Gocław   subst  sg:voc:m3            ['nazwa_geograficzna']\n",
            "   8    9 dla      dla      prep   gen                  []             \n",
            "   9   10 całej    cały     adj    sg:dat:f:pos         []             \n",
            "   9   10 całej    cały     adj    sg:gen:f:pos         []             \n",
            "   9   10 całej    cały     adj    sg:loc:f:pos         []             \n",
            "  10   11 pragi    Praga:Sf subst  sg:gen:f             ['nazwa_geograficzna', 'nazwisko']\n",
            "  10   11 pragi    Praga:Sf subst  pl:nom.acc.voc:f     ['nazwa_geograficzna', 'nazwisko']\n",
            "  10   11 pragi    Praga:Sm1 subst  sg:gen:m1            ['nazwisko']   \n",
            "  10   11 pragi    Praga:Sm1 depr   pl:nom.acc.voc:m2    ['nazwisko']   \n",
            "  11   12 -        -        interp                      []             \n",
            "  12   13 południe południe subst  sg:nom.acc.voc:n:ncol ['nazwa_pospolita']\n",
            "  13   14 jako     jaka     subst  sg:voc:f             ['nazwa_pospolita']\n",
            "  13   14 jako     jako:C   conj                        []             \n",
            "  13   14 jako     jako:F   frag                        []             \n",
            "  13   14 jako     jako:M   comp                        []             \n",
            "  13   14 jako     jako:P   prep   nom                  []             \n",
            "  14   15 wizytówka wizytówka subst  sg:nom:f             ['nazwa_pospolita']\n",
            "  15   16 prawej   prawa    subst  sg:gen:f             ['nazwa_pospolita']\n",
            "  15   16 prawej   prawa    subst  sg:dat.loc:f         ['nazwa_pospolita']\n",
            "  15   16 prawej   prawy:A  adj    sg:dat:f:pos         []             \n",
            "  15   16 prawej   prawy:A  adj    sg:gen:f:pos         []             \n",
            "  15   16 prawej   prawy:A  adj    sg:loc:f:pos         []             \n",
            "  16   17 strony   strona   subst  sg:gen:f             ['nazwa_pospolita']\n",
            "  16   17 strony   strona   subst  pl:nom.acc.voc:f     ['nazwa_pospolita']\n",
            "  17   18 wisły    Wisła:Sf subst  sg:gen:f             ['nazwa_geograficzna', 'nazwisko']\n",
            "  17   18 wisły    Wisła:Sf subst  pl:nom.acc.voc:f     ['nazwa_geograficzna', 'nazwisko']\n",
            "  17   18 wisły    Wisła:Sm1 subst  sg:gen:m1            ['nazwisko']   \n",
            "  17   18 wisły    Wisła:Sm1 depr   pl:nom.acc.voc:m2    ['nazwisko']   \n",
            "  18   19 domki    domek    subst  pl:nom.acc.voc:m3    ['nazwa_pospolita']\n",
            "  19   20 dla      dla      prep   gen                  []             \n",
            "  20   21 jeży     jeż:Sm2  subst  pl:gen:m2            ['nazwa_pospolita']\n",
            "  20   21 jeży     jeż:Sm3  subst  pl:gen:m3            ['nazwa_pospolita']\n",
            "  20   21 jeży     jeżyć    fin    sg:ter:imperf        []             \n",
            "  21   22 nad      nad      prep   acc:nwok             []             \n",
            "  21   22 nad      nad      prep   inst:nwok            []             \n",
            "  22   23 balatonem Balaton  subst  sg:inst:m3           ['nazwa_geograficzna']\n",
            "  23   24 nie      nie:C    conj                        []             \n",
            "  23   24 nie      nie:I    interj                      []             \n",
            "  23   24 nie      on:S     ppron3 pl:acc:m2.m3.f.n:ter:akc.nakc:praep []             \n",
            "  23   24 nie      on:S     ppron3 sg:acc:n:ter:akc.nakc:praep []             \n",
            "  23   24 nie      nie:T    part                        []             \n",
            "  24   25 chcesz   chcieć   fin    sg:sec:imperf        []             \n",
            "  25   26 mieć     miecić   impt   sg:sec:imperf        []             \n",
            "  25   26 mieć     mieść    impt   sg:sec:imperf        []             \n",
            "  25   26 mieć     mieć     inf    imperf               []             \n",
            "  26   27 szczurów szczur   subst  pl:gen:m2            ['nazwa_pospolita']\n"
          ]
        }
      ]
    },
    {
      "cell_type": "code",
      "source": [
        ""
      ],
      "metadata": {
        "id": "gx1aS3JK3cni"
      },
      "execution_count": null,
      "outputs": []
    }
  ]
}